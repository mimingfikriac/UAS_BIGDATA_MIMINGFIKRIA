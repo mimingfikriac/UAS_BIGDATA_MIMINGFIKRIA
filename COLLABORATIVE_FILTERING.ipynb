{
  "nbformat": 4,
  "nbformat_minor": 0,
  "metadata": {
    "colab": {
      "provenance": []
    },
    "kernelspec": {
      "name": "python3",
      "display_name": "Python 3"
    },
    "language_info": {
      "name": "python"
    }
  },
  "cells": [
    {
      "cell_type": "code",
      "execution_count": 8,
      "metadata": {
        "colab": {
          "base_uri": "https://localhost:8080/"
        },
        "id": "6HJAnGp2D8kr",
        "outputId": "e06a039a-89a2-4305-8739-512e48a3e578"
      },
      "outputs": [
        {
          "output_type": "stream",
          "name": "stdout",
          "text": [
            "Peringkat prediksi untuk pengguna 0 : [1.42501885 2.62496858 2.09997487 1.90002513 2.95001257]\n"
          ]
        }
      ],
      "source": [
        "import numpy as np\n",
        "from sklearn.metrics.pairwise import cosine_similarity\n",
        "\n",
        "# Dummy data (matriks peringkat pengguna terhadap item)\n",
        "user_item_ratings = np.array([\n",
        "    [5, 4, 0, 0, 1],\n",
        "    [0, 5, 4, 0, 2],\n",
        "    [3, 0, 0, 4, 4],\n",
        "    [0, 2, 5, 4, 0],\n",
        "])\n",
        "\n",
        "# Fungsi untuk menghitung kesamaan antar pengguna menggunakan Cosine Similarity\n",
        "def user_similarity(ratings):\n",
        "    return cosine_similarity(ratings)\n",
        "\n",
        "# Fungsi untuk membuat rekomendasi berdasarkan user-based collaborative filtering\n",
        "def user_based_recommendation(user_ratings, similar_users, k=2):\n",
        "    weighted_sum = np.zeros(user_ratings.shape[1])\n",
        "    similarity_sum = 0\n",
        "\n",
        "    # Pilih k pengguna terdekat\n",
        "    top_users = np.argsort(similar_users)[-k-1:-1][::-1]\n",
        "\n",
        "    for user in top_users:\n",
        "        # Hitung bobot kesamaan antar pengguna\n",
        "        weight = similar_users[user]\n",
        "\n",
        "        # Hitung jumlah bobot kesamaan\n",
        "        similarity_sum += weight\n",
        "\n",
        "        # Hitung jumlah tertimbang peringkat pengguna\n",
        "        weighted_sum += weight * user_ratings[user]\n",
        "\n",
        "    # Prediksi peringkat untuk item yang belum dinilai\n",
        "    predicted_ratings = weighted_sum / similarity_sum\n",
        "\n",
        "    return predicted_ratings\n",
        "\n",
        "# Contoh penggunaan\n",
        "user_similarities = user_similarity(user_item_ratings)\n",
        "user_id = 0  # Pengguna yang ingin diberikan rekomendasi\n",
        "predicted_ratings = user_based_recommendation(user_item_ratings, user_similarities[user_id])\n",
        "\n",
        "print(\"Peringkat prediksi untuk pengguna\", user_id, \":\", predicted_ratings)\n"
      ]
    },
    {
      "cell_type": "code",
      "source": [
        "import numpy as np\n",
        "\n",
        "def user_similarity(data_matrix):\n",
        "    similarity_matrix = np.dot(data_matrix, data_matrix.T)\n",
        "    norm_matrix = np.sqrt(np.sum(data_matrix**2, axis=1, keepdims=True))\n",
        "    similarity_matrix /= np.dot(norm_matrix, norm_matrix.T)\n",
        "    return similarity_matrix\n",
        "\n",
        "def item_similarity(data_matrix):\n",
        "    similarity_matrix = np.dot(data_matrix.T, data_matrix)\n",
        "    norm_matrix = np.sqrt(np.sum(data_matrix**2, axis=0, keepdims=True))\n",
        "    similarity_matrix /= np.dot(norm_matrix.T, norm_matrix)\n",
        "    return similarity_matrix\n",
        "\n",
        "def predict_ratings(data_matrix, similarity_matrix):\n",
        "    return np.dot(similarity_matrix, data_matrix) / np.sum(np.abs(similarity_matrix), axis=1, keepdims=True)\n",
        "\n",
        "# Contoh data ekspresi gen (baris = sampel, kolom = gen)\n",
        "data_matrix = np.array([\n",
        "    [1.2, 0.8, 0.0, 1.5],\n",
        "    [0.0, 2.0, 1.8, 0.6],\n",
        "    [1.5, 0.0, 0.9, 1.2],\n",
        "    [0.8, 1.2, 1.5, 0.0]\n",
        "])\n",
        "\n",
        "# Menghitung similarity antar sampel\n",
        "user_similarity_matrix = user_similarity(data_matrix)\n",
        "\n",
        "# Menghitung similarity antar gen\n",
        "item_similarity_matrix = item_similarity(data_matrix)\n",
        "\n",
        "# Prediksi ekspresi gen yang belum diukur\n",
        "predicted_ratings = predict_ratings(data_matrix, user_similarity_matrix)\n",
        "\n",
        "# Output hasil\n",
        "print(\"Similarity Matrix (User-Based):\")\n",
        "print(user_similarity_matrix)\n",
        "print(\"\\nSimilarity Matrix (Item-Based):\")\n",
        "print(item_similarity_matrix)\n",
        "print(\"\\nPredicted Ratings:\")\n",
        "print(predicted_ratings)\n"
      ],
      "metadata": {
        "colab": {
          "base_uri": "https://localhost:8080/"
        },
        "id": "vGOrCt-WFMC3",
        "outputId": "932a5b67-4ace-4c28-d220-0cce711b09d5"
      },
      "execution_count": 9,
      "outputs": [
        {
          "output_type": "stream",
          "name": "stdout",
          "text": [
            "Similarity Matrix (User-Based):\n",
            "[[1.         0.43580205 0.8155532  0.44341801]\n",
            " [0.43580205 1.         0.40013156 0.88903617]\n",
            " [0.8155532  0.40013156 1.         0.57768352]\n",
            " [0.44341801 0.88903617 0.57768352 1.        ]]\n",
            "\n",
            "Similarity Matrix (Item-Based):\n",
            "[[1.         0.37420147 0.48823168 0.85966855]\n",
            " [0.37420147 1.         0.87251258 0.48365083]\n",
            " [0.48823168 0.87251258 1.         0.42761799]\n",
            " [0.85966855 0.48365083 0.42761799 1.        ]]\n",
            "\n",
            "Predicted Ratings:\n",
            "[[1.03090833 0.81777036 0.8102977  1.01683697]\n",
            " [0.67317764 1.25340291 1.28209593 0.6362863 ]\n",
            " [1.05278301 0.76822162 0.89023782 0.95347569]\n",
            " [0.75550614 1.14524022 1.24398934 0.65006166]]\n"
          ]
        }
      ]
    }
  ]
}