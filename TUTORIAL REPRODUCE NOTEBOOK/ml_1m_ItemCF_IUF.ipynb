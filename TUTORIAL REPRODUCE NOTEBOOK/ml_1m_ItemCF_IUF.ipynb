{
  "nbformat": 4,
  "nbformat_minor": 0,
  "metadata": {
    "colab": {
      "provenance": []
    },
    "kernelspec": {
      "name": "python3",
      "display_name": "Python 3"
    },
    "language_info": {
      "name": "python"
    }
  },
  "cells": [
    {
      "cell_type": "code",
      "execution_count": 1,
      "metadata": {
        "colab": {
          "base_uri": "https://localhost:8080/"
        },
        "id": "Ggpjqzs5r_Mq",
        "outputId": "685c053c-7b22-4d76-b05f-52415c095ce8"
      },
      "outputs": [
        {
          "output_type": "stream",
          "name": "stdout",
          "text": [
            "Cloning into 'REPRODUCE-CF'...\n",
            "remote: Enumerating objects: 122, done.\u001b[K\n",
            "remote: Counting objects: 100% (39/39), done.\u001b[K\n",
            "remote: Compressing objects: 100% (34/34), done.\u001b[K\n",
            "remote: Total 122 (delta 29), reused 5 (delta 5), pack-reused 83\u001b[K\n",
            "Receiving objects: 100% (122/122), 18.59 MiB | 19.26 MiB/s, done.\n",
            "Resolving deltas: 100% (55/55), done.\n"
          ]
        }
      ],
      "source": [
        "!git clone https://github.com/mimingfikriac/REPRODUCE-CF.git"
      ]
    },
    {
      "cell_type": "code",
      "source": [
        "cd REPRODUCE-CF"
      ],
      "metadata": {
        "colab": {
          "base_uri": "https://localhost:8080/"
        },
        "id": "CNt_2zheshM8",
        "outputId": "ce610353-9087-46d4-afc5-dd1816e1fd73"
      },
      "execution_count": 2,
      "outputs": [
        {
          "output_type": "stream",
          "name": "stdout",
          "text": [
            "/content/REPRODUCE-CF\n"
          ]
        }
      ]
    },
    {
      "cell_type": "code",
      "source": [
        "#Python main.py\n",
        "!python3 main.py"
      ],
      "metadata": {
        "colab": {
          "base_uri": "https://localhost:8080/"
        },
        "id": "OrQ7OmqxsGEC",
        "outputId": "e06f1ba8-9532-4032-e184-3b61ede00538"
      },
      "execution_count": 3,
      "outputs": [
        {
          "output_type": "stream",
          "name": "stdout",
          "text": [
            "**********************************************************************\n",
            "\tThis is ItemCF-IUF model trained on ml-1m with test_size = 0.10\n",
            "**********************************************************************\n",
            "\n",
            "Load ml-1m dataset success.\n",
            "split rating data to training set and test set success.\n",
            "train set size = 900118\n",
            "test set size = 100091\n",
            "\n",
            "ItemBasedCF start...\n",
            "\n",
            "No model saved before.\n",
            "Train a new model...\n",
            "counting movies number and popularity...\n",
            "counting movies number and popularity success.\n",
            "total movie number = 3693\n",
            "generate items co-rated similarity matrix...\n",
            " steps(0), 0.00 seconds have spent..\n",
            " steps(1000), 43.05 seconds have spent..\n",
            " steps(2000), 102.82 seconds have spent..\n",
            " steps(3000), 139.29 seconds have spent..\n",
            " steps(4000), 189.49 seconds have spent..\n",
            " steps(5000), 239.75 seconds have spent..\n",
            " steps(6000), 280.99 seconds have spent..\n",
            "generate items co-rated similarity matrix success.\n",
            "total  step number is 6040\n",
            "total 282.96 seconds have spent\n",
            "\n",
            "calculate item-item similarity matrix...\n",
            " steps(0), 0.00 seconds have spent..\n",
            " steps(1000), 3.04 seconds have spent..\n",
            " steps(2000), 4.95 seconds have spent..\n",
            " steps(3000), 6.58 seconds have spent..\n",
            "calculate item-item similarity matrix success.\n",
            "total  step number is 3693\n",
            "total 7.20 seconds have spent\n",
            "\n",
            "Train a new model success.\n",
            "The new model has saved success.\n",
            "\n",
            "recommend for userid = 1:\n",
            "['1196', '318', '2858', '1265', '364', '1', '1198', '2081', '1282', '2716']\n",
            "\n",
            "recommend for userid = 100:\n",
            "['2916', '589', '1580', '1240', '457', '858', '780', '1291', '1214', '1036']\n",
            "\n",
            "recommend for userid = 233:\n",
            "['594', '1282', '1022', '2858', '593', '1196', '2087', '1393', '608', '2081']\n",
            "\n",
            "recommend for userid = 666:\n",
            "['296', '593', '1704', '356', '1196', '589', '1580', '2028', '1393', '1']\n",
            "\n",
            "recommend for userid = 888:\n",
            "['480', '2916', '457', '2628', '1265', '1198', '1610', '2762', '1527', '588']\n",
            "\n",
            "Test recommendation system start...\n",
            " steps(0), 0.07 seconds have spent..\n",
            " steps(1000), 217.71 seconds have spent..\n",
            " steps(2000), 465.52 seconds have spent..\n",
            " steps(3000), 666.22 seconds have spent..\n",
            " steps(4000), 913.29 seconds have spent..\n",
            " steps(5000), 1145.50 seconds have spent..\n",
            " steps(6000), 1368.11 seconds have spent..\n",
            "Test recommendation system success.\n",
            "total  step number is 6040\n",
            "total 1377.22 seconds have spent\n",
            "\n",
            "precision=0.1871\trecall=0.1129\tcoverage=0.1503\tpopularity=7.4748\n",
            "\n",
            "total Main Function step number is 0\n",
            "total 1677.08 seconds have spent\n",
            "\n"
          ]
        }
      ]
    }
  ]
}