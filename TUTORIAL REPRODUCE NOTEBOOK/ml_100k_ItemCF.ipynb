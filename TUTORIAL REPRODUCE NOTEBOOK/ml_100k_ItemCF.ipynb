{
  "nbformat": 4,
  "nbformat_minor": 0,
  "metadata": {
    "colab": {
      "provenance": []
    },
    "kernelspec": {
      "name": "python3",
      "display_name": "Python 3"
    },
    "language_info": {
      "name": "python"
    }
  },
  "cells": [
    {
      "cell_type": "code",
      "execution_count": 1,
      "metadata": {
        "colab": {
          "base_uri": "https://localhost:8080/"
        },
        "id": "Ggpjqzs5r_Mq",
        "outputId": "b92d27e6-449b-43db-c911-4017a18b38c7"
      },
      "outputs": [
        {
          "output_type": "stream",
          "name": "stdout",
          "text": [
            "Cloning into 'REPRODUCE-CF'...\n",
            "remote: Enumerating objects: 140, done.\u001b[K\n",
            "remote: Counting objects: 100% (57/57), done.\u001b[K\n",
            "remote: Compressing objects: 100% (52/52), done.\u001b[K\n",
            "remote: Total 140 (delta 41), reused 5 (delta 5), pack-reused 83\u001b[K\n",
            "Receiving objects: 100% (140/140), 18.59 MiB | 19.38 MiB/s, done.\n",
            "Resolving deltas: 100% (67/67), done.\n"
          ]
        }
      ],
      "source": [
        "!git clone https://github.com/mimingfikriac/REPRODUCE-CF.git"
      ]
    },
    {
      "cell_type": "code",
      "source": [
        "cd REPRODUCE-CF"
      ],
      "metadata": {
        "colab": {
          "base_uri": "https://localhost:8080/"
        },
        "id": "CNt_2zheshM8",
        "outputId": "ecfc14ea-f3c8-415e-d263-fd3434202a50"
      },
      "execution_count": 2,
      "outputs": [
        {
          "output_type": "stream",
          "name": "stdout",
          "text": [
            "/content/REPRODUCE-CF\n"
          ]
        }
      ]
    },
    {
      "cell_type": "code",
      "source": [
        "#Python main.py\n",
        "!python3 main.py"
      ],
      "metadata": {
        "colab": {
          "base_uri": "https://localhost:8080/"
        },
        "id": "OrQ7OmqxsGEC",
        "outputId": "61541a9b-2b63-458d-f5af-7ea9dafe286a"
      },
      "execution_count": 3,
      "outputs": [
        {
          "output_type": "stream",
          "name": "stdout",
          "text": [
            "**********************************************************************\n",
            "\tThis is ItemCF model trained on ml-100k with test_size = 0.10\n",
            "**********************************************************************\n",
            "\n",
            "Load ml-100k dataset success.\n",
            "split rating data to training set and test set success.\n",
            "train set size = 89961\n",
            "test set size = 10039\n",
            "\n",
            "ItemBasedCF start...\n",
            "\n",
            "No model saved before.\n",
            "Train a new model...\n",
            "counting movies number and popularity...\n",
            "counting movies number and popularity success.\n",
            "total movie number = 1671\n",
            "generate items co-rated similarity matrix...\n",
            " steps(0), 0.00 seconds have spent..\n",
            "generate items co-rated similarity matrix success.\n",
            "total  step number is 943\n",
            "total 8.42 seconds have spent\n",
            "\n",
            "calculate item-item similarity matrix...\n",
            " steps(0), 0.00 seconds have spent..\n",
            " steps(1000), 0.93 seconds have spent..\n",
            "calculate item-item similarity matrix success.\n",
            "total  step number is 1671\n",
            "total 1.30 seconds have spent\n",
            "\n",
            "Train a new model success.\n",
            "The new model has saved success.\n",
            "\n",
            "recommend for userid = 1:\n",
            "['168', '423', '385', '568', '405', '403', '550', '4', '222', '393']\n",
            "\n",
            "recommend for userid = 100:\n",
            "['307', '748', '301', '245', '332', '50', '312', '327', '678', '322']\n",
            "\n",
            "recommend for userid = 233:\n",
            "['172', '210', '195', '132', '173', '79', '186', '238', '191', '28']\n",
            "\n",
            "recommend for userid = 666:\n",
            "['98', '89', '50', '654', '405', '1', '117', '22', '228', '7']\n",
            "\n",
            "recommend for userid = 888:\n",
            "['174', '98', '216', '50', '405', '25', '168', '282', '121', '238']\n",
            "\n",
            "Test recommendation system start...\n",
            " steps(0), 0.02 seconds have spent..\n",
            "Test recommendation system success.\n",
            "total  step number is 943\n",
            "total 33.00 seconds have spent\n",
            "\n",
            "precision=0.1789\trecall=0.1680\tcoverage=0.1323\tpopularity=5.6202\n",
            "\n",
            "total Main Function step number is 0\n",
            "total 44.62 seconds have spent\n",
            "\n"
          ]
        }
      ]
    }
  ]
}