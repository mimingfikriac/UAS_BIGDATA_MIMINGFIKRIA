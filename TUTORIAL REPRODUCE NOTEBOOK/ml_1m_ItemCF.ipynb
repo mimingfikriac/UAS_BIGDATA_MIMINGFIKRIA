{
  "nbformat": 4,
  "nbformat_minor": 0,
  "metadata": {
    "colab": {
      "provenance": []
    },
    "kernelspec": {
      "name": "python3",
      "display_name": "Python 3"
    },
    "language_info": {
      "name": "python"
    }
  },
  "cells": [
    {
      "cell_type": "code",
      "execution_count": 1,
      "metadata": {
        "colab": {
          "base_uri": "https://localhost:8080/"
        },
        "id": "Ggpjqzs5r_Mq",
        "outputId": "72398605-b4ad-40e6-b2bd-3d41a69edd20"
      },
      "outputs": [
        {
          "output_type": "stream",
          "name": "stdout",
          "text": [
            "Cloning into 'REPRODUCE-CF'...\n",
            "remote: Enumerating objects: 113, done.\u001b[K\n",
            "remote: Counting objects: 100% (30/30), done.\u001b[K\n",
            "remote: Compressing objects: 100% (25/25), done.\u001b[K\n",
            "remote: Total 113 (delta 23), reused 5 (delta 5), pack-reused 83\u001b[K\n",
            "Receiving objects: 100% (113/113), 18.58 MiB | 19.01 MiB/s, done.\n",
            "Resolving deltas: 100% (49/49), done.\n"
          ]
        }
      ],
      "source": [
        "!git clone https://github.com/mimingfikriac/REPRODUCE-CF.git"
      ]
    },
    {
      "cell_type": "code",
      "source": [
        "cd REPRODUCE-CF"
      ],
      "metadata": {
        "colab": {
          "base_uri": "https://localhost:8080/"
        },
        "id": "CNt_2zheshM8",
        "outputId": "8882cd8f-53c8-4a43-c426-72158acb2edc"
      },
      "execution_count": 2,
      "outputs": [
        {
          "output_type": "stream",
          "name": "stdout",
          "text": [
            "/content/REPRODUCE-CF\n"
          ]
        }
      ]
    },
    {
      "cell_type": "code",
      "source": [
        "#Python main.py\n",
        "!python3 main.py"
      ],
      "metadata": {
        "colab": {
          "base_uri": "https://localhost:8080/"
        },
        "id": "OrQ7OmqxsGEC",
        "outputId": "82a85be1-a64b-4f1d-a19a-b651cacb360a"
      },
      "execution_count": 3,
      "outputs": [
        {
          "output_type": "stream",
          "name": "stdout",
          "text": [
            "**********************************************************************\n",
            "\tThis is ItemCF model trained on ml-1m with test_size = 0.10\n",
            "**********************************************************************\n",
            "\n",
            "Load ml-1m dataset success.\n",
            "split rating data to training set and test set success.\n",
            "train set size = 900118\n",
            "test set size = 100091\n",
            "\n",
            "ItemBasedCF start...\n",
            "\n",
            "No model saved before.\n",
            "Train a new model...\n",
            "counting movies number and popularity...\n",
            "counting movies number and popularity success.\n",
            "total movie number = 3693\n",
            "generate items co-rated similarity matrix...\n",
            " steps(0), 0.00 seconds have spent..\n",
            " steps(1000), 18.47 seconds have spent..\n",
            " steps(2000), 43.90 seconds have spent..\n",
            " steps(3000), 59.13 seconds have spent..\n",
            " steps(4000), 81.18 seconds have spent..\n",
            " steps(5000), 103.71 seconds have spent..\n",
            " steps(6000), 122.09 seconds have spent..\n",
            "generate items co-rated similarity matrix success.\n",
            "total  step number is 6040\n",
            "total 122.88 seconds have spent\n",
            "\n",
            "calculate item-item similarity matrix...\n",
            " steps(0), 0.00 seconds have spent..\n",
            " steps(1000), 1.65 seconds have spent..\n",
            " steps(2000), 4.11 seconds have spent..\n",
            " steps(3000), 6.19 seconds have spent..\n",
            "calculate item-item similarity matrix success.\n",
            "total  step number is 3693\n",
            "total 6.78 seconds have spent\n",
            "\n",
            "Train a new model success.\n",
            "The new model has saved success.\n",
            "\n",
            "recommend for userid = 1:\n",
            "['1196', '364', '1265', '318', '2081', '1282', '1198', '2716', '1', '2096']\n",
            "\n",
            "recommend for userid = 100:\n",
            "['2916', '1580', '457', '1240', '589', '1291', '780', '1036', '1610', '1214']\n",
            "\n",
            "recommend for userid = 233:\n",
            "['1022', '594', '1282', '2087', '2078', '1196', '608', '2081', '593', '1393']\n",
            "\n",
            "recommend for userid = 666:\n",
            "['296', '1704', '593', '356', '1196', '589', '1580', '50', '1393', '1']\n",
            "\n",
            "recommend for userid = 888:\n",
            "['2916', '457', '480', '2628', '1265', '1610', '1198', '1573', '2762', '1527']\n",
            "\n",
            "Test recommendation system start...\n",
            " steps(0), 0.06 seconds have spent..\n",
            " steps(1000), 170.76 seconds have spent..\n",
            " steps(2000), 365.02 seconds have spent..\n",
            " steps(3000), 522.30 seconds have spent..\n",
            " steps(4000), 713.09 seconds have spent..\n",
            " steps(5000), 890.73 seconds have spent..\n",
            " steps(6000), 1066.65 seconds have spent..\n",
            "Test recommendation system success.\n",
            "total  step number is 6040\n",
            "total 1072.99 seconds have spent\n",
            "\n",
            "precision=0.1900\trecall=0.1147\tcoverage=0.1673\tpopularity=7.3911\n",
            "\n",
            "total Main Function step number is 0\n",
            "total 1209.36 seconds have spent\n",
            "\n"
          ]
        }
      ]
    }
  ]
}