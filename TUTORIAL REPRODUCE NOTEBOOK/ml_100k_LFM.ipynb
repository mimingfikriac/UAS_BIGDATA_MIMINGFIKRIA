{
  "nbformat": 4,
  "nbformat_minor": 0,
  "metadata": {
    "colab": {
      "provenance": []
    },
    "kernelspec": {
      "name": "python3",
      "display_name": "Python 3"
    },
    "language_info": {
      "name": "python"
    }
  },
  "cells": [
    {
      "cell_type": "code",
      "execution_count": 1,
      "metadata": {
        "colab": {
          "base_uri": "https://localhost:8080/"
        },
        "id": "Ggpjqzs5r_Mq",
        "outputId": "f163f986-b438-44f3-a8f2-55c47e061f83"
      },
      "outputs": [
        {
          "output_type": "stream",
          "name": "stdout",
          "text": [
            "Cloning into 'REPRODUCE-CF'...\n",
            "remote: Enumerating objects: 150, done.\u001b[K\n",
            "remote: Counting objects: 100% (67/67), done.\u001b[K\n",
            "remote: Compressing objects: 100% (62/62), done.\u001b[K\n",
            "remote: Total 150 (delta 47), reused 5 (delta 5), pack-reused 83\u001b[K\n",
            "Receiving objects: 100% (150/150), 18.59 MiB | 15.88 MiB/s, done.\n",
            "Resolving deltas: 100% (73/73), done.\n"
          ]
        }
      ],
      "source": [
        "!git clone https://github.com/mimingfikriac/REPRODUCE-CF.git"
      ]
    },
    {
      "cell_type": "code",
      "source": [
        "cd REPRODUCE-CF"
      ],
      "metadata": {
        "colab": {
          "base_uri": "https://localhost:8080/"
        },
        "id": "CNt_2zheshM8",
        "outputId": "693b6eaf-dd5b-4fd3-83d6-7f9750e39bf6"
      },
      "execution_count": 2,
      "outputs": [
        {
          "output_type": "stream",
          "name": "stdout",
          "text": [
            "/content/REPRODUCE-CF\n"
          ]
        }
      ]
    },
    {
      "cell_type": "code",
      "source": [
        "#Python main.py\n",
        "!python3 main.py"
      ],
      "metadata": {
        "colab": {
          "base_uri": "https://localhost:8080/"
        },
        "id": "OrQ7OmqxsGEC",
        "outputId": "72fa35f5-2ffd-4b91-9eeb-a3d2db786701"
      },
      "execution_count": 3,
      "outputs": [
        {
          "output_type": "stream",
          "name": "stdout",
          "text": [
            "**********************************************************************\n",
            "\tThis is LFM model trained on ml-100k with test_size = 0.10\n",
            "**********************************************************************\n",
            "\n",
            "Load ml-100k dataset success.\n",
            "split rating data to training set and test set success.\n",
            "train set size = 89961\n",
            "test set size = 10039\n",
            "\n",
            "LFM start...\n",
            "\n",
            "No model saved before.\n",
            "Train a new model...\n",
            "epoch: 0\n",
            "epoch: 1\n",
            "epoch: 2\n",
            "epoch: 3\n",
            "epoch: 4\n",
            "epoch: 5\n",
            "epoch: 6\n",
            "epoch: 7\n",
            "epoch: 8\n",
            "epoch: 9\n",
            "epoch: 10\n",
            "epoch: 11\n",
            "epoch: 12\n",
            "epoch: 13\n",
            "epoch: 14\n",
            "epoch: 15\n",
            "epoch: 16\n",
            "epoch: 17\n",
            "epoch: 18\n",
            "epoch: 19\n",
            "Train a new model success.\n",
            "The new model has saved success.\n",
            "\n",
            "recommend for userid = 1:\n",
            "['222', '568', '403', '385', '405', '431', '168', '550', '515', '423']\n",
            "\n",
            "recommend for userid = 100:\n",
            "['307', '301', '748', '312', '327', '331', '332', '245', '887', '303']\n",
            "\n",
            "recommend for userid = 233:\n",
            "['427', '496', '480', '181', '132', '172', '479', '603', '134', '484']\n",
            "\n",
            "recommend for userid = 666:\n",
            "['98', '89', '50', '22', '654', '199', '1', '7', '185', '528']\n",
            "\n",
            "recommend for userid = 888:\n",
            "['275', '283', '285', '14', '276', '9', '70', '116', '124', '86']\n",
            "\n",
            "Test recommendation system start...\n",
            " steps(0), 0.01 seconds have spent..\n",
            "Test recommendation system success.\n",
            "total  step number is 943\n",
            "total 5.12 seconds have spent\n",
            "\n",
            "precision=0.2070\trecall=0.1944\tcoverage=0.3136\tpopularity=5.2485\n",
            "\n",
            "total Main Function step number is 0\n",
            "total 166.89 seconds have spent\n",
            "\n"
          ]
        }
      ]
    }
  ]
}