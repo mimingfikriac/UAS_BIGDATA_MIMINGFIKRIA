{
  "nbformat": 4,
  "nbformat_minor": 0,
  "metadata": {
    "colab": {
      "provenance": []
    },
    "kernelspec": {
      "name": "python3",
      "display_name": "Python 3"
    },
    "language_info": {
      "name": "python"
    }
  },
  "cells": [
    {
      "cell_type": "code",
      "execution_count": 1,
      "metadata": {
        "colab": {
          "base_uri": "https://localhost:8080/"
        },
        "id": "Ggpjqzs5r_Mq",
        "outputId": "78e2e43f-de76-45e1-fc2d-9afd5e422e54"
      },
      "outputs": [
        {
          "output_type": "stream",
          "name": "stdout",
          "text": [
            "Cloning into 'REPRODUCE-CF'...\n",
            "remote: Enumerating objects: 144, done.\u001b[K\n",
            "remote: Counting objects: 100% (61/61), done.\u001b[K\n",
            "remote: Compressing objects: 100% (56/56), done.\u001b[K\n",
            "remote: Total 144 (delta 43), reused 5 (delta 5), pack-reused 83\u001b[K\n",
            "Receiving objects: 100% (144/144), 18.59 MiB | 16.21 MiB/s, done.\n",
            "Resolving deltas: 100% (69/69), done.\n"
          ]
        }
      ],
      "source": [
        "!git clone https://github.com/mimingfikriac/REPRODUCE-CF.git"
      ]
    },
    {
      "cell_type": "code",
      "source": [
        "cd REPRODUCE-CF"
      ],
      "metadata": {
        "colab": {
          "base_uri": "https://localhost:8080/"
        },
        "id": "CNt_2zheshM8",
        "outputId": "d558c99e-358c-4d39-f70d-da0cae6263b1"
      },
      "execution_count": 2,
      "outputs": [
        {
          "output_type": "stream",
          "name": "stdout",
          "text": [
            "/content/REPRODUCE-CF\n"
          ]
        }
      ]
    },
    {
      "cell_type": "code",
      "source": [
        "#Python main.py\n",
        "!python3 main.py"
      ],
      "metadata": {
        "colab": {
          "base_uri": "https://localhost:8080/"
        },
        "id": "OrQ7OmqxsGEC",
        "outputId": "ea07bfd8-d634-4709-caa9-62109cc05dd7"
      },
      "execution_count": 3,
      "outputs": [
        {
          "output_type": "stream",
          "name": "stdout",
          "text": [
            "**********************************************************************\n",
            "\tThis is MostPopular model trained on ml-100k with test_size = 0.10\n",
            "**********************************************************************\n",
            "\n",
            "Load ml-100k dataset success.\n",
            "split rating data to training set and test set success.\n",
            "train set size = 89961\n",
            "test set size = 10039\n",
            "\n",
            "MostPopular start...\n",
            "\n",
            "No model saved before.\n",
            "Train a new model...\n",
            "counting movies number and popularity...\n",
            "counting movies number and popularity success.\n",
            "total movie number = 1671\n",
            "Train a new model success.\n",
            "The new model has saved success.\n",
            "\n",
            "recommend for userid = 1:\n",
            "['288', '286', '294', '300', '222', '405', '313', '168', '748', '276']\n",
            "\n",
            "recommend for userid = 100:\n",
            "['50', '100', '181', '1', '121', '127', '174', '98', '56', '7']\n",
            "\n",
            "recommend for userid = 233:\n",
            "['181', '258', '288', '294', '1', '300', '7', '237', '172', '222']\n",
            "\n",
            "recommend for userid = 666:\n",
            "['50', '1', '98', '7', '117', '405', '313', '748', '276', '9']\n",
            "\n",
            "recommend for userid = 888:\n",
            "['50', '181', '258', '288', '294', '1', '121', '300', '127', '174']\n",
            "\n",
            "Test recommendation system start...\n",
            " steps(0), 0.00 seconds have spent..\n",
            "Test recommendation system success.\n",
            "total  step number is 943\n",
            "total 0.61 seconds have spent\n",
            "\n",
            "precision=0.1054\trecall=0.0990\tcoverage=0.0407\tpopularity=5.9578\n",
            "\n",
            "total Main Function step number is 0\n",
            "total 1.37 seconds have spent\n",
            "\n"
          ]
        }
      ]
    }
  ]
}