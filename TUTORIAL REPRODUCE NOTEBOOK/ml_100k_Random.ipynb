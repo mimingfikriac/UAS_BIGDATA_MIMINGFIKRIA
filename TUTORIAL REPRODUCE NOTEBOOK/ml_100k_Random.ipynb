{
  "nbformat": 4,
  "nbformat_minor": 0,
  "metadata": {
    "colab": {
      "provenance": []
    },
    "kernelspec": {
      "name": "python3",
      "display_name": "Python 3"
    },
    "language_info": {
      "name": "python"
    }
  },
  "cells": [
    {
      "cell_type": "code",
      "execution_count": 1,
      "metadata": {
        "colab": {
          "base_uri": "https://localhost:8080/"
        },
        "id": "Ggpjqzs5r_Mq",
        "outputId": "7a2abdb0-36f3-438b-a857-adaf8e78eed1"
      },
      "outputs": [
        {
          "output_type": "stream",
          "name": "stdout",
          "text": [
            "Cloning into 'REPRODUCE-CF'...\n",
            "remote: Enumerating objects: 141, done.\u001b[K\n",
            "remote: Counting objects: 100% (58/58), done.\u001b[K\n",
            "remote: Compressing objects: 100% (53/53), done.\u001b[K\n",
            "remote: Total 141 (delta 41), reused 5 (delta 5), pack-reused 83\u001b[K\n",
            "Receiving objects: 100% (141/141), 18.59 MiB | 17.54 MiB/s, done.\n",
            "Resolving deltas: 100% (67/67), done.\n"
          ]
        }
      ],
      "source": [
        "!git clone https://github.com/mimingfikriac/REPRODUCE-CF.git"
      ]
    },
    {
      "cell_type": "code",
      "source": [
        "cd REPRODUCE-CF"
      ],
      "metadata": {
        "colab": {
          "base_uri": "https://localhost:8080/"
        },
        "id": "CNt_2zheshM8",
        "outputId": "6bf39044-c32a-4f6b-d187-1d2d71d317e5"
      },
      "execution_count": 2,
      "outputs": [
        {
          "output_type": "stream",
          "name": "stdout",
          "text": [
            "/content/REPRODUCE-CF\n"
          ]
        }
      ]
    },
    {
      "cell_type": "code",
      "source": [
        "#Python main.py\n",
        "!python3 main.py"
      ],
      "metadata": {
        "colab": {
          "base_uri": "https://localhost:8080/"
        },
        "id": "OrQ7OmqxsGEC",
        "outputId": "eb2235d4-6224-4c38-89ed-c9d8acc1bfd4"
      },
      "execution_count": 3,
      "outputs": [
        {
          "output_type": "stream",
          "name": "stdout",
          "text": [
            "**********************************************************************\n",
            "\tThis is Random model trained on ml-100k with test_size = 0.10\n",
            "**********************************************************************\n",
            "\n",
            "Load ml-100k dataset success.\n",
            "split rating data to training set and test set success.\n",
            "train set size = 89961\n",
            "test set size = 10039\n",
            "\n",
            "RandomPredict start...\n",
            "\n",
            "No model saved before.\n",
            "Train a new model...\n",
            "counting movies number and popularity...\n",
            "counting movies number and popularity success.\n",
            "total movie number = 1671\n",
            "Train a new model success.\n",
            "The new model has saved success.\n",
            "\n",
            "recommend for userid = 1:\n",
            "['1210', '488', '1422', '1273', '1599', '413', '555', '1435', '1665', '1657']\n",
            "\n",
            "recommend for userid = 100:\n",
            "['221', '987', '1574', '1312', '57', '343', '1391', '1153', '1597', '280']\n",
            "\n",
            "recommend for userid = 233:\n",
            "['1669', '239', '776', '761', '901', '422', '1281', '1066', '895', '760']\n",
            "\n",
            "recommend for userid = 666:\n",
            "['419', '957', '759', '1397', '1467', '104', '555', '369', '1611', '266']\n",
            "\n",
            "recommend for userid = 888:\n",
            "['946', '1304', '1619', '184', '1466', '591', '401', '18', '708', '574']\n",
            "\n",
            "Test recommendation system start...\n",
            " steps(0), 0.00 seconds have spent..\n",
            "Test recommendation system success.\n",
            "total  step number is 943\n",
            "total 0.03 seconds have spent\n",
            "\n",
            "precision=0.0049\trecall=0.0046\tcoverage=0.9964\tpopularity=3.0472\n",
            "\n",
            "total Main Function step number is 0\n",
            "total 0.62 seconds have spent\n",
            "\n"
          ]
        }
      ]
    }
  ]
}