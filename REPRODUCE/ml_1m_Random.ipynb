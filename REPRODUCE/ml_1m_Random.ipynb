{
  "nbformat": 4,
  "nbformat_minor": 0,
  "metadata": {
    "colab": {
      "provenance": []
    },
    "kernelspec": {
      "name": "python3",
      "display_name": "Python 3"
    },
    "language_info": {
      "name": "python"
    }
  },
  "cells": [
    {
      "cell_type": "code",
      "execution_count": 4,
      "metadata": {
        "colab": {
          "base_uri": "https://localhost:8080/"
        },
        "id": "Ggpjqzs5r_Mq",
        "outputId": "9b957a00-2790-4cca-a066-cbe995401899"
      },
      "outputs": [
        {
          "output_type": "stream",
          "name": "stdout",
          "text": [
            "Cloning into 'REPRODUCE-CF'...\n",
            "remote: Enumerating objects: 125, done.\u001b[K\n",
            "remote: Counting objects: 100% (42/42), done.\u001b[K\n",
            "remote: Compressing objects: 100% (37/37), done.\u001b[K\n",
            "remote: Total 125 (delta 31), reused 5 (delta 5), pack-reused 83\u001b[K\n",
            "Receiving objects: 100% (125/125), 18.59 MiB | 15.26 MiB/s, done.\n",
            "Resolving deltas: 100% (57/57), done.\n"
          ]
        }
      ],
      "source": [
        "!git clone https://github.com/mimingfikriac/REPRODUCE-CF.git"
      ]
    },
    {
      "cell_type": "code",
      "source": [
        "cd REPRODUCE-CF"
      ],
      "metadata": {
        "colab": {
          "base_uri": "https://localhost:8080/"
        },
        "id": "CNt_2zheshM8",
        "outputId": "94f96383-0c1a-4a4f-a8de-eeb5282eb695"
      },
      "execution_count": 5,
      "outputs": [
        {
          "output_type": "stream",
          "name": "stdout",
          "text": [
            "/content/REPRODUCE-CF/REPRODUCE-CF\n"
          ]
        }
      ]
    },
    {
      "cell_type": "code",
      "source": [
        "#Python main.py\n",
        "!python3 main.py"
      ],
      "metadata": {
        "colab": {
          "base_uri": "https://localhost:8080/"
        },
        "id": "OrQ7OmqxsGEC",
        "outputId": "b33bc0bd-9eb8-434a-f8a7-bf38ededc440"
      },
      "execution_count": 6,
      "outputs": [
        {
          "output_type": "stream",
          "name": "stdout",
          "text": [
            "**********************************************************************\n",
            "\tThis is Random model trained on ml-1m with test_size = 0.10\n",
            "**********************************************************************\n",
            "\n",
            "Load ml-1m dataset success.\n",
            "split rating data to training set and test set success.\n",
            "train set size = 900118\n",
            "test set size = 100091\n",
            "\n",
            "RandomPredict start...\n",
            "\n",
            "No model saved before.\n",
            "Train a new model...\n",
            "counting movies number and popularity...\n",
            "counting movies number and popularity success.\n",
            "total movie number = 3693\n",
            "Train a new model success.\n",
            "The new model has saved success.\n",
            "\n",
            "recommend for userid = 1:\n",
            "['453', '2002', '3222', '603', '3476', '2139', '2464', '1313', '3651', '3321']\n",
            "\n",
            "recommend for userid = 100:\n",
            "['2561', '2645', '2254', '3128', '2315', '2735', '614', '1365', '369', '3794']\n",
            "\n",
            "recommend for userid = 233:\n",
            "['1581', '3405', '2213', '3551', '2343', '3072', '3162', '2843', '710', '3877']\n",
            "\n",
            "recommend for userid = 666:\n",
            "['2529', '2457', '2809', '3121', '1130', '761', '3024', '48', '2459', '2837']\n",
            "\n",
            "recommend for userid = 888:\n",
            "['3197', '383', '2908', '681', '515', '227', '2214', '2548', '663', '3859']\n",
            "\n",
            "Test recommendation system start...\n",
            " steps(0), 0.00 seconds have spent..\n",
            " steps(1000), 0.04 seconds have spent..\n",
            " steps(2000), 0.07 seconds have spent..\n",
            " steps(3000), 0.09 seconds have spent..\n",
            " steps(4000), 0.12 seconds have spent..\n",
            " steps(5000), 0.15 seconds have spent..\n",
            " steps(6000), 0.18 seconds have spent..\n",
            "Test recommendation system success.\n",
            "total  step number is 6040\n",
            "total 0.18 seconds have spent\n",
            "\n",
            "precision=0.0051\trecall=0.0031\tcoverage=1.0000\tpopularity=4.4131\n",
            "\n",
            "total Main Function step number is 0\n",
            "total 2.84 seconds have spent\n",
            "\n"
          ]
        }
      ]
    }
  ]
}