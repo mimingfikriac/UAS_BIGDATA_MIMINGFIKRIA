{
  "nbformat": 4,
  "nbformat_minor": 0,
  "metadata": {
    "colab": {
      "provenance": []
    },
    "kernelspec": {
      "name": "python3",
      "display_name": "Python 3"
    },
    "language_info": {
      "name": "python"
    }
  },
  "cells": [
    {
      "cell_type": "code",
      "execution_count": 1,
      "metadata": {
        "colab": {
          "base_uri": "https://localhost:8080/"
        },
        "id": "Ggpjqzs5r_Mq",
        "outputId": "768e609e-8289-4621-dd46-06be84e354a3"
      },
      "outputs": [
        {
          "output_type": "stream",
          "name": "stdout",
          "text": [
            "Cloning into 'REPRODUCE-CF'...\n",
            "remote: Enumerating objects: 152, done.\u001b[K\n",
            "remote: Counting objects: 100% (69/69), done.\u001b[K\n",
            "remote: Compressing objects: 100% (64/64), done.\u001b[K\n",
            "remote: Total 152 (delta 47), reused 5 (delta 5), pack-reused 83\u001b[K\n",
            "Receiving objects: 100% (152/152), 18.59 MiB | 18.27 MiB/s, done.\n",
            "Resolving deltas: 100% (73/73), done.\n"
          ]
        }
      ],
      "source": [
        "!git clone https://github.com/mimingfikriac/REPRODUCE-CF.git"
      ]
    },
    {
      "cell_type": "code",
      "source": [
        "cd REPRODUCE-CF"
      ],
      "metadata": {
        "colab": {
          "base_uri": "https://localhost:8080/"
        },
        "id": "CNt_2zheshM8",
        "outputId": "6fce5945-ba31-4e1c-a9a1-b70071e3e49d"
      },
      "execution_count": 2,
      "outputs": [
        {
          "output_type": "stream",
          "name": "stdout",
          "text": [
            "/content/REPRODUCE-CF\n"
          ]
        }
      ]
    },
    {
      "cell_type": "code",
      "source": [
        "#Python main.py\n",
        "!python3 main.py"
      ],
      "metadata": {
        "colab": {
          "base_uri": "https://localhost:8080/"
        },
        "id": "OrQ7OmqxsGEC",
        "outputId": "2b115ad6-0698-4a18-fad0-219900de02ec"
      },
      "execution_count": 3,
      "outputs": [
        {
          "output_type": "stream",
          "name": "stdout",
          "text": [
            "**********************************************************************\n",
            "\tThis is MostPopular model trained on ml-1m with test_size = 0.10\n",
            "**********************************************************************\n",
            "\n",
            "Load ml-1m dataset success.\n",
            "split rating data to training set and test set success.\n",
            "train set size = 900118\n",
            "test set size = 100091\n",
            "\n",
            "MostPopular start...\n",
            "\n",
            "No model saved before.\n",
            "Train a new model...\n",
            "counting movies number and popularity...\n",
            "counting movies number and popularity success.\n",
            "total movie number = 3693\n",
            "Train a new model success.\n",
            "The new model has saved success.\n",
            "\n",
            "recommend for userid = 1:\n",
            "['2858', '1196', '1210', '480', '589', '2571', '593', '1580', '1198', '110']\n",
            "\n",
            "recommend for userid = 100:\n",
            "['2858', '589', '1270', '1580', '2762', '2396', '1617', '1265', '1097', '2997']\n",
            "\n",
            "recommend for userid = 233:\n",
            "['2858', '260', '1196', '480', '589', '1270', '2571', '593', '1580', '608']\n",
            "\n",
            "recommend for userid = 666:\n",
            "['260', '1196', '1210', '2028', '589', '1270', '593', '1580', '2762', '110']\n",
            "\n",
            "recommend for userid = 888:\n",
            "['480', '593', '608', '2762', '1198', '527', '1617', '1197', '1265', '1097']\n",
            "\n",
            "Test recommendation system start...\n",
            " steps(0), 0.00 seconds have spent..\n",
            " steps(1000), 0.86 seconds have spent..\n",
            " steps(2000), 1.58 seconds have spent..\n",
            " steps(3000), 2.29 seconds have spent..\n",
            " steps(4000), 2.99 seconds have spent..\n",
            " steps(5000), 3.70 seconds have spent..\n",
            " steps(6000), 4.39 seconds have spent..\n",
            "Test recommendation system success.\n",
            "total  step number is 6040\n",
            "total 4.41 seconds have spent\n",
            "\n",
            "precision=0.1059\trecall=0.0639\tcoverage=0.0276\tpopularity=7.7462\n",
            "\n",
            "total Main Function step number is 0\n",
            "total 8.38 seconds have spent\n",
            "\n"
          ]
        }
      ]
    }
  ]
}