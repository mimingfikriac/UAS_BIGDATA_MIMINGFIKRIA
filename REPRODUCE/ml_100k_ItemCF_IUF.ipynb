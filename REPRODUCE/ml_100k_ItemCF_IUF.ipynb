{
  "nbformat": 4,
  "nbformat_minor": 0,
  "metadata": {
    "colab": {
      "provenance": []
    },
    "kernelspec": {
      "name": "python3",
      "display_name": "Python 3"
    },
    "language_info": {
      "name": "python"
    }
  },
  "cells": [
    {
      "cell_type": "code",
      "execution_count": 1,
      "metadata": {
        "colab": {
          "base_uri": "https://localhost:8080/"
        },
        "id": "Ggpjqzs5r_Mq",
        "outputId": "e0232cd8-a5bf-46eb-a8b8-a89a34cf7b3e"
      },
      "outputs": [
        {
          "output_type": "stream",
          "name": "stdout",
          "text": [
            "Cloning into 'REPRODUCE-CF'...\n",
            "remote: Enumerating objects: 147, done.\u001b[K\n",
            "remote: Counting objects: 100% (64/64), done.\u001b[K\n",
            "remote: Compressing objects: 100% (59/59), done.\u001b[K\n",
            "remote: Total 147 (delta 45), reused 5 (delta 5), pack-reused 83\u001b[K\n",
            "Receiving objects: 100% (147/147), 18.59 MiB | 19.19 MiB/s, done.\n",
            "Resolving deltas: 100% (71/71), done.\n"
          ]
        }
      ],
      "source": [
        "!git clone https://github.com/mimingfikriac/REPRODUCE-CF.git"
      ]
    },
    {
      "cell_type": "code",
      "source": [
        "cd REPRODUCE-CF"
      ],
      "metadata": {
        "colab": {
          "base_uri": "https://localhost:8080/"
        },
        "id": "CNt_2zheshM8",
        "outputId": "e40a526c-1b00-446f-9386-9e8f1edf8dd6"
      },
      "execution_count": 2,
      "outputs": [
        {
          "output_type": "stream",
          "name": "stdout",
          "text": [
            "/content/REPRODUCE-CF\n"
          ]
        }
      ]
    },
    {
      "cell_type": "code",
      "source": [
        "#Python main.py\n",
        "!python3 main.py"
      ],
      "metadata": {
        "colab": {
          "base_uri": "https://localhost:8080/"
        },
        "id": "OrQ7OmqxsGEC",
        "outputId": "4209a75e-8cd0-441b-97bc-9c6d4789b4da"
      },
      "execution_count": 3,
      "outputs": [
        {
          "output_type": "stream",
          "name": "stdout",
          "text": [
            "**********************************************************************\n",
            "\tThis is ItemCF-IUF model trained on ml-100k with test_size = 0.10\n",
            "**********************************************************************\n",
            "\n",
            "Load ml-100k dataset success.\n",
            "split rating data to training set and test set success.\n",
            "train set size = 89961\n",
            "test set size = 10039\n",
            "\n",
            "ItemBasedCF start...\n",
            "\n",
            "No model saved before.\n",
            "Train a new model...\n",
            "counting movies number and popularity...\n",
            "counting movies number and popularity success.\n",
            "total movie number = 1671\n",
            "generate items co-rated similarity matrix...\n",
            " steps(0), 0.00 seconds have spent..\n",
            "generate items co-rated similarity matrix success.\n",
            "total  step number is 943\n",
            "total 18.39 seconds have spent\n",
            "\n",
            "calculate item-item similarity matrix...\n",
            " steps(0), 0.00 seconds have spent..\n",
            " steps(1000), 1.06 seconds have spent..\n",
            "calculate item-item similarity matrix success.\n",
            "total  step number is 1671\n",
            "total 1.48 seconds have spent\n",
            "\n",
            "Train a new model success.\n",
            "The new model has saved success.\n",
            "\n",
            "recommend for userid = 1:\n",
            "['168', '423', '385', '568', '405', '403', '222', '550', '318', '393']\n",
            "\n",
            "recommend for userid = 100:\n",
            "['307', '748', '301', '245', '332', '327', '312', '322', '303', '678']\n",
            "\n",
            "recommend for userid = 233:\n",
            "['172', '210', '195', '173', '132', '79', '28', '191', '181', '186']\n",
            "\n",
            "recommend for userid = 666:\n",
            "['98', '50', '89', '22', '654', '117', '1', '405', '7', '228']\n",
            "\n",
            "recommend for userid = 888:\n",
            "['50', '174', '98', '168', '121', '405', '25', '56', '216', '282']\n",
            "\n",
            "Test recommendation system start...\n",
            " steps(0), 0.02 seconds have spent..\n",
            "Test recommendation system success.\n",
            "total  step number is 943\n",
            "total 37.86 seconds have spent\n",
            "\n",
            "precision=0.1845\trecall=0.1733\tcoverage=0.1281\tpopularity=5.6332\n",
            "\n",
            "total Main Function step number is 0\n",
            "total 59.67 seconds have spent\n",
            "\n"
          ]
        }
      ]
    }
  ]
}