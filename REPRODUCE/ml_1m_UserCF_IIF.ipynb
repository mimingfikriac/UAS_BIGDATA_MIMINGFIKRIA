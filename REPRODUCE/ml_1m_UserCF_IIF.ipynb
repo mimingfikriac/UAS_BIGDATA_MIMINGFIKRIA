{
  "nbformat": 4,
  "nbformat_minor": 0,
  "metadata": {
    "colab": {
      "provenance": []
    },
    "kernelspec": {
      "name": "python3",
      "display_name": "Python 3"
    },
    "language_info": {
      "name": "python"
    }
  },
  "cells": [
    {
      "cell_type": "code",
      "execution_count": 1,
      "metadata": {
        "colab": {
          "base_uri": "https://localhost:8080/"
        },
        "id": "Ggpjqzs5r_Mq",
        "outputId": "85aa3f89-e4d1-41db-8ad5-fe3b08109aec"
      },
      "outputs": [
        {
          "output_type": "stream",
          "name": "stdout",
          "text": [
            "Cloning into 'REPRODUCE-CF'...\n",
            "remote: Enumerating objects: 119, done.\u001b[K\n",
            "remote: Counting objects: 100% (36/36), done.\u001b[K\n",
            "remote: Compressing objects: 100% (31/31), done.\u001b[K\n",
            "remote: Total 119 (delta 27), reused 5 (delta 5), pack-reused 83\u001b[K\n",
            "Receiving objects: 100% (119/119), 18.59 MiB | 18.33 MiB/s, done.\n",
            "Resolving deltas: 100% (53/53), done.\n"
          ]
        }
      ],
      "source": [
        "!git clone https://github.com/mimingfikriac/REPRODUCE-CF.git"
      ]
    },
    {
      "cell_type": "code",
      "source": [
        "cd REPRODUCE-CF"
      ],
      "metadata": {
        "colab": {
          "base_uri": "https://localhost:8080/"
        },
        "id": "CNt_2zheshM8",
        "outputId": "35916974-44c0-4fc5-dec5-e78d53a0d1c4"
      },
      "execution_count": 2,
      "outputs": [
        {
          "output_type": "stream",
          "name": "stdout",
          "text": [
            "/content/REPRODUCE-CF\n"
          ]
        }
      ]
    },
    {
      "cell_type": "code",
      "source": [
        "#Python main.py\n",
        "!python3 main.py"
      ],
      "metadata": {
        "colab": {
          "base_uri": "https://localhost:8080/"
        },
        "id": "OrQ7OmqxsGEC",
        "outputId": "36a2370a-fadb-4799-cc26-4a3c9dc29e0f"
      },
      "execution_count": 3,
      "outputs": [
        {
          "output_type": "stream",
          "name": "stdout",
          "text": [
            "**********************************************************************\n",
            "\tThis is UserCF-IIF model trained on ml-1m with test_size = 0.10\n",
            "**********************************************************************\n",
            "\n",
            "Load ml-1m dataset success.\n",
            "split rating data to training set and test set success.\n",
            "train set size = 900118\n",
            "test set size = 100091\n",
            "\n",
            "UserBasedCF start...\n",
            "\n",
            "No model saved before.\n",
            "Train a new model...\n",
            "building movie-users inverse table...\n",
            "building movie-users inverse table success.\n",
            "total movie number = 3693\n",
            "generate user co-rated movies similarity matrix...\n",
            " steps(0), 3.58 seconds have spent..\n",
            " steps(1000), 439.30 seconds have spent..\n",
            " steps(2000), 516.65 seconds have spent..\n",
            " steps(3000), 525.90 seconds have spent..\n",
            "generate user co-rated movies similarity matrix success.\n",
            "total  step number is 3693\n",
            "total 526.15 seconds have spent\n",
            "\n",
            "calculate user-user similarity matrix...\n",
            " steps(0), 0.00 seconds have spent..\n",
            " steps(1000), 2.98 seconds have spent..\n",
            " steps(2000), 5.95 seconds have spent..\n",
            " steps(3000), 10.23 seconds have spent..\n",
            " steps(4000), 13.15 seconds have spent..\n",
            " steps(5000), 15.99 seconds have spent..\n",
            " steps(6000), 18.68 seconds have spent..\n",
            "calculate user-user similarity matrix success.\n",
            "total  step number is 6040\n",
            "total 18.76 seconds have spent\n",
            "\n",
            "Train a new model success.\n",
            "The new model has saved success.\n",
            "\n",
            "recommend for userid = 1:\n",
            "['1', '2081', '364', '1282', '2078', '34', '2096', '2080', '2087', '1210']\n",
            "\n",
            "recommend for userid = 100:\n",
            "['1374', '1240', '1036', '1610', '1275', '377', '1291', '733', '589', '1214']\n",
            "\n",
            "recommend for userid = 233:\n",
            "['899', '1282', '3061', '2081', '912', '1022', '2941', '34', '594', '1088']\n",
            "\n",
            "recommend for userid = 666:\n",
            "['593', '296', '50', '2762', '1704', '3481', '1500', '25', '1673', '2028']\n",
            "\n",
            "recommend for userid = 888:\n",
            "['480', '588', '2762', '595', '3578', '457', '2628', '1265', '2081', '2987']\n",
            "\n",
            "Test recommendation system start...\n",
            " steps(0), 0.00 seconds have spent..\n",
            " steps(1000), 3.66 seconds have spent..\n",
            " steps(2000), 9.45 seconds have spent..\n",
            " steps(3000), 14.19 seconds have spent..\n",
            " steps(4000), 18.05 seconds have spent..\n",
            " steps(5000), 23.97 seconds have spent..\n",
            " steps(6000), 28.67 seconds have spent..\n",
            "Test recommendation system success.\n",
            "total  step number is 6040\n",
            "total 28.81 seconds have spent\n",
            "\n",
            "precision=0.1977\trecall=0.1193\tcoverage=0.2962\tpopularity=7.1660\n",
            "\n",
            "total Main Function step number is 0\n",
            "total 587.39 seconds have spent\n",
            "\n"
          ]
        }
      ]
    }
  ]
}