{
  "nbformat": 4,
  "nbformat_minor": 0,
  "metadata": {
    "colab": {
      "provenance": []
    },
    "kernelspec": {
      "name": "python3",
      "display_name": "Python 3"
    },
    "language_info": {
      "name": "python"
    }
  },
  "cells": [
    {
      "cell_type": "code",
      "execution_count": 1,
      "metadata": {
        "colab": {
          "base_uri": "https://localhost:8080/"
        },
        "id": "Ggpjqzs5r_Mq",
        "outputId": "8cc5d1f3-81b4-4da9-8d98-1a591deb96bc"
      },
      "outputs": [
        {
          "output_type": "stream",
          "name": "stdout",
          "text": [
            "Cloning into 'REPRODUCE-CF'...\n",
            "remote: Enumerating objects: 134, done.\u001b[K\n",
            "remote: Counting objects: 100% (51/51), done.\u001b[K\n",
            "remote: Compressing objects: 100% (46/46), done.\u001b[K\n",
            "remote: Total 134 (delta 37), reused 5 (delta 5), pack-reused 83\u001b[K\n",
            "Receiving objects: 100% (134/134), 18.59 MiB | 17.62 MiB/s, done.\n",
            "Resolving deltas: 100% (63/63), done.\n"
          ]
        }
      ],
      "source": [
        "!git clone https://github.com/mimingfikriac/REPRODUCE-CF.git"
      ]
    },
    {
      "cell_type": "code",
      "source": [
        "cd REPRODUCE-CF"
      ],
      "metadata": {
        "colab": {
          "base_uri": "https://localhost:8080/"
        },
        "id": "CNt_2zheshM8",
        "outputId": "b7dd7b9d-3bd8-472b-9df6-8594fe4e5e18"
      },
      "execution_count": 2,
      "outputs": [
        {
          "output_type": "stream",
          "name": "stdout",
          "text": [
            "/content/REPRODUCE-CF\n"
          ]
        }
      ]
    },
    {
      "cell_type": "code",
      "source": [
        "#Python main.py\n",
        "!python3 main.py"
      ],
      "metadata": {
        "colab": {
          "base_uri": "https://localhost:8080/"
        },
        "id": "OrQ7OmqxsGEC",
        "outputId": "0e484ff5-340e-491f-90d8-d5f30f914e83"
      },
      "execution_count": 3,
      "outputs": [
        {
          "output_type": "stream",
          "name": "stdout",
          "text": [
            "**********************************************************************\n",
            "\tThis is UserCF model trained on ml-100k with test_size = 0.10\n",
            "**********************************************************************\n",
            "\n",
            "Load ml-100k dataset success.\n",
            "split rating data to training set and test set success.\n",
            "train set size = 89961\n",
            "test set size = 10039\n",
            "\n",
            "UserBasedCF start...\n",
            "\n",
            "No model saved before.\n",
            "Train a new model...\n",
            "building movie-users inverse table...\n",
            "building movie-users inverse table success.\n",
            "total movie number = 1671\n",
            "generate user co-rated movies similarity matrix...\n",
            " steps(0), 0.01 seconds have spent..\n",
            " steps(1000), 6.39 seconds have spent..\n",
            "generate user co-rated movies similarity matrix success.\n",
            "total  step number is 1671\n",
            "total 6.51 seconds have spent\n",
            "\n",
            "calculate user-user similarity matrix...\n",
            " steps(0), 0.00 seconds have spent..\n",
            "calculate user-user similarity matrix success.\n",
            "total  step number is 943\n",
            "total 0.70 seconds have spent\n",
            "\n",
            "Train a new model success.\n",
            "The new model has saved success.\n",
            "\n",
            "recommend for userid = 1:\n",
            "['168', '4', '222', '474', '318', '655', '423', '732', '568', '385']\n",
            "\n",
            "recommend for userid = 100:\n",
            "['327', '301', '748', '307', '303', '331', '332', '322', '343', '304']\n",
            "\n",
            "recommend for userid = 233:\n",
            "['132', '22', '199', '496', '211', '526', '181', '427', '474', '79']\n",
            "\n",
            "recommend for userid = 666:\n",
            "['50', '654', '185', '199', '98', '89', '131', '47', '1', '521']\n",
            "\n",
            "recommend for userid = 888:\n",
            "['275', '14', '191', '1', '173', '302', '127', '151', '357', '285']\n",
            "\n",
            "Test recommendation system start...\n",
            " steps(0), 0.00 seconds have spent..\n",
            "Test recommendation system success.\n",
            "total  step number is 943\n",
            "total 2.04 seconds have spent\n",
            "\n",
            "precision=0.1969\trecall=0.1850\tcoverage=0.2220\tpopularity=5.4923\n",
            "\n",
            "total Main Function step number is 0\n",
            "total 10.24 seconds have spent\n",
            "\n"
          ]
        }
      ]
    }
  ]
}