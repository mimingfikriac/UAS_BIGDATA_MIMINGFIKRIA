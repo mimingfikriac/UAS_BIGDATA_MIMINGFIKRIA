{
  "nbformat": 4,
  "nbformat_minor": 0,
  "metadata": {
    "colab": {
      "provenance": []
    },
    "kernelspec": {
      "name": "python3",
      "display_name": "Python 3"
    },
    "language_info": {
      "name": "python"
    }
  },
  "cells": [
    {
      "cell_type": "code",
      "execution_count": 1,
      "metadata": {
        "colab": {
          "base_uri": "https://localhost:8080/"
        },
        "id": "Ggpjqzs5r_Mq",
        "outputId": "2149a840-7b1e-430f-cbf7-69569ab1e526"
      },
      "outputs": [
        {
          "output_type": "stream",
          "name": "stdout",
          "text": [
            "Cloning into 'REPRODUCE-CF'...\n",
            "remote: Enumerating objects: 116, done.\u001b[K\n",
            "remote: Counting objects: 100% (33/33), done.\u001b[K\n",
            "remote: Compressing objects: 100% (28/28), done.\u001b[K\n",
            "remote: Total 116 (delta 25), reused 5 (delta 5), pack-reused 83\u001b[K\n",
            "Receiving objects: 100% (116/116), 18.58 MiB | 17.89 MiB/s, done.\n",
            "Resolving deltas: 100% (51/51), done.\n"
          ]
        }
      ],
      "source": [
        "!git clone https://github.com/mimingfikriac/REPRODUCE-CF.git"
      ]
    },
    {
      "cell_type": "code",
      "source": [
        "cd REPRODUCE-CF"
      ],
      "metadata": {
        "colab": {
          "base_uri": "https://localhost:8080/"
        },
        "id": "CNt_2zheshM8",
        "outputId": "090b74fc-b743-4b22-ee05-feb3b32769ef"
      },
      "execution_count": 2,
      "outputs": [
        {
          "output_type": "stream",
          "name": "stdout",
          "text": [
            "/content/REPRODUCE-CF\n"
          ]
        }
      ]
    },
    {
      "cell_type": "code",
      "source": [
        "#Python main.py\n",
        "!python3 main.py"
      ],
      "metadata": {
        "colab": {
          "base_uri": "https://localhost:8080/"
        },
        "id": "OrQ7OmqxsGEC",
        "outputId": "bfff915d-289c-49ea-a45a-f08d43107df7"
      },
      "execution_count": 3,
      "outputs": [
        {
          "output_type": "stream",
          "name": "stdout",
          "text": [
            "**********************************************************************\n",
            "\tThis is UserCF model trained on ml-1m with test_size = 0.10\n",
            "**********************************************************************\n",
            "\n",
            "Load ml-1m dataset success.\n",
            "split rating data to training set and test set success.\n",
            "train set size = 900118\n",
            "test set size = 100091\n",
            "\n",
            "UserBasedCF start...\n",
            "\n",
            "No model saved before.\n",
            "Train a new model...\n",
            "building movie-users inverse table...\n",
            "building movie-users inverse table success.\n",
            "total movie number = 3693\n",
            "generate user co-rated movies similarity matrix...\n",
            " steps(0), 1.38 seconds have spent..\n",
            " steps(1000), 214.31 seconds have spent..\n",
            " steps(2000), 254.35 seconds have spent..\n",
            " steps(3000), 259.04 seconds have spent..\n",
            "generate user co-rated movies similarity matrix success.\n",
            "total  step number is 3693\n",
            "total 259.24 seconds have spent\n",
            "\n",
            "calculate user-user similarity matrix...\n",
            " steps(0), 0.01 seconds have spent..\n",
            " steps(1000), 5.53 seconds have spent..\n",
            " steps(2000), 9.58 seconds have spent..\n",
            " steps(3000), 15.06 seconds have spent..\n",
            " steps(4000), 19.66 seconds have spent..\n",
            " steps(5000), 23.28 seconds have spent..\n",
            " steps(6000), 28.18 seconds have spent..\n",
            "calculate user-user similarity matrix success.\n",
            "total  step number is 6040\n",
            "total 28.38 seconds have spent\n",
            "\n",
            "Train a new model success.\n",
            "The new model has saved success.\n",
            "\n",
            "recommend for userid = 1:\n",
            "['1', '2081', '364', '2078', '1282', '34', '2087', '2096', '1196', '2080']\n",
            "\n",
            "recommend for userid = 100:\n",
            "['1374', '1240', '377', '1036', '1610', '589', '733', '1214', '780', '1372']\n",
            "\n",
            "recommend for userid = 233:\n",
            "['899', '1282', '912', '1022', '2081', '3061', '34', '1197', '1088', '527']\n",
            "\n",
            "recommend for userid = 666:\n",
            "['593', '2762', '50', '296', '25', '1358', '1704', '2336', '1673', '3481']\n",
            "\n",
            "recommend for userid = 888:\n",
            "['2762', '480', '588', '3578', '457', '2628', '1265', '1198', '1721', '595']\n",
            "\n",
            "Test recommendation system start...\n",
            " steps(0), 0.00 seconds have spent..\n",
            " steps(1000), 4.53 seconds have spent..\n",
            " steps(2000), 9.56 seconds have spent..\n",
            " steps(3000), 13.59 seconds have spent..\n",
            " steps(4000), 18.59 seconds have spent..\n",
            " steps(5000), 23.58 seconds have spent..\n",
            " steps(6000), 28.04 seconds have spent..\n",
            "Test recommendation system success.\n",
            "total  step number is 6040\n",
            "total 28.19 seconds have spent\n",
            "\n",
            "precision=0.1984\trecall=0.1197\tcoverage=0.2819\tpopularity=7.2024\n",
            "\n",
            "total Main Function step number is 0\n",
            "total 330.01 seconds have spent\n",
            "\n"
          ]
        }
      ]
    }
  ]
}