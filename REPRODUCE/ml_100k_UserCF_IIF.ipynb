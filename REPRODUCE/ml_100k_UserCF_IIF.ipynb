{
  "nbformat": 4,
  "nbformat_minor": 0,
  "metadata": {
    "colab": {
      "provenance": []
    },
    "kernelspec": {
      "name": "python3",
      "display_name": "Python 3"
    },
    "language_info": {
      "name": "python"
    }
  },
  "cells": [
    {
      "cell_type": "code",
      "execution_count": 1,
      "metadata": {
        "colab": {
          "base_uri": "https://localhost:8080/"
        },
        "id": "Ggpjqzs5r_Mq",
        "outputId": "8aa66e55-ca44-4ff8-8cfc-03d963e513a0"
      },
      "outputs": [
        {
          "output_type": "stream",
          "name": "stdout",
          "text": [
            "Cloning into 'REPRODUCE-CF'...\n",
            "remote: Enumerating objects: 151, done.\u001b[K\n",
            "remote: Counting objects: 100% (68/68), done.\u001b[K\n",
            "remote: Compressing objects: 100% (63/63), done.\u001b[K\n",
            "remote: Total 151 (delta 47), reused 5 (delta 5), pack-reused 83\u001b[K\n",
            "Receiving objects: 100% (151/151), 18.59 MiB | 19.25 MiB/s, done.\n",
            "Resolving deltas: 100% (73/73), done.\n"
          ]
        }
      ],
      "source": [
        "!git clone https://github.com/mimingfikriac/REPRODUCE-CF.git"
      ]
    },
    {
      "cell_type": "code",
      "source": [
        "cd REPRODUCE-CF"
      ],
      "metadata": {
        "colab": {
          "base_uri": "https://localhost:8080/"
        },
        "id": "CNt_2zheshM8",
        "outputId": "6f816b1e-b578-4c50-b5fb-7b80be935b7e"
      },
      "execution_count": 2,
      "outputs": [
        {
          "output_type": "stream",
          "name": "stdout",
          "text": [
            "/content/REPRODUCE-CF\n"
          ]
        }
      ]
    },
    {
      "cell_type": "code",
      "source": [
        "#Python main.py\n",
        "!python3 main.py"
      ],
      "metadata": {
        "colab": {
          "base_uri": "https://localhost:8080/"
        },
        "id": "OrQ7OmqxsGEC",
        "outputId": "72e5d312-f565-4cd3-b570-25cc27a4587f"
      },
      "execution_count": 3,
      "outputs": [
        {
          "output_type": "stream",
          "name": "stdout",
          "text": [
            "**********************************************************************\n",
            "\tThis is UserCF-IIF model trained on ml-100k with test_size = 0.10\n",
            "**********************************************************************\n",
            "\n",
            "Load ml-100k dataset success.\n",
            "split rating data to training set and test set success.\n",
            "train set size = 89961\n",
            "test set size = 10039\n",
            "\n",
            "UserBasedCF start...\n",
            "\n",
            "No model saved before.\n",
            "Train a new model...\n",
            "building movie-users inverse table...\n",
            "building movie-users inverse table success.\n",
            "total movie number = 1671\n",
            "generate user co-rated movies similarity matrix...\n",
            " steps(0), 0.01 seconds have spent..\n",
            " steps(1000), 14.78 seconds have spent..\n",
            "generate user co-rated movies similarity matrix success.\n",
            "total  step number is 1671\n",
            "total 14.90 seconds have spent\n",
            "\n",
            "calculate user-user similarity matrix...\n",
            " steps(0), 0.00 seconds have spent..\n",
            "calculate user-user similarity matrix success.\n",
            "total  step number is 943\n",
            "total 0.34 seconds have spent\n",
            "\n",
            "Train a new model success.\n",
            "The new model has saved success.\n",
            "\n",
            "recommend for userid = 1:\n",
            "['168', '4', '222', '318', '474', '568', '655', '423', '385', '732']\n",
            "\n",
            "recommend for userid = 100:\n",
            "['327', '307', '303', '748', '301', '331', '322', '332', '304', '343']\n",
            "\n",
            "recommend for userid = 233:\n",
            "['132', '496', '199', '211', '22', '181', '526', '79', '427', '215']\n",
            "\n",
            "recommend for userid = 666:\n",
            "['50', '654', '98', '185', '131', '199', '521', '47', '528', '285']\n",
            "\n",
            "recommend for userid = 888:\n",
            "['275', '1', '14', '117', '127', '98', '9', '191', '283', '173']\n",
            "\n",
            "Test recommendation system start...\n",
            " steps(0), 0.00 seconds have spent..\n",
            "Test recommendation system success.\n",
            "total  step number is 943\n",
            "total 1.33 seconds have spent\n",
            "\n",
            "precision=0.1957\trecall=0.1838\tcoverage=0.2274\tpopularity=5.4716\n",
            "\n",
            "total Main Function step number is 0\n",
            "total 17.22 seconds have spent\n",
            "\n"
          ]
        }
      ]
    }
  ]
}