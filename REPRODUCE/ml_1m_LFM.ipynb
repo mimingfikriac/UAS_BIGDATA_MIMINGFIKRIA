{
  "nbformat": 4,
  "nbformat_minor": 0,
  "metadata": {
    "colab": {
      "provenance": []
    },
    "kernelspec": {
      "name": "python3",
      "display_name": "Python 3"
    },
    "language_info": {
      "name": "python"
    }
  },
  "cells": [
    {
      "cell_type": "code",
      "execution_count": 1,
      "metadata": {
        "colab": {
          "base_uri": "https://localhost:8080/"
        },
        "id": "Ggpjqzs5r_Mq",
        "outputId": "a23731e8-83f7-4006-bce8-c7f1c629aeae"
      },
      "outputs": [
        {
          "output_type": "stream",
          "name": "stdout",
          "text": [
            "Cloning into 'REPRODUCE-CF'...\n",
            "remote: Enumerating objects: 128, done.\u001b[K\n",
            "remote: Counting objects: 100% (45/45), done.\u001b[K\n",
            "remote: Compressing objects: 100% (40/40), done.\u001b[K\n",
            "remote: Total 128 (delta 33), reused 5 (delta 5), pack-reused 83\u001b[K\n",
            "Receiving objects: 100% (128/128), 18.59 MiB | 17.35 MiB/s, done.\n",
            "Resolving deltas: 100% (59/59), done.\n"
          ]
        }
      ],
      "source": [
        "!git clone https://github.com/mimingfikriac/REPRODUCE-CF.git"
      ]
    },
    {
      "cell_type": "code",
      "source": [
        "cd REPRODUCE-CF"
      ],
      "metadata": {
        "colab": {
          "base_uri": "https://localhost:8080/"
        },
        "id": "CNt_2zheshM8",
        "outputId": "27c671e6-2ef1-4902-dc2f-92eb07dd0b01"
      },
      "execution_count": 2,
      "outputs": [
        {
          "output_type": "stream",
          "name": "stdout",
          "text": [
            "/content/REPRODUCE-CF\n"
          ]
        }
      ]
    },
    {
      "cell_type": "code",
      "source": [
        "#Python main.py\n",
        "!python3 main.py"
      ],
      "metadata": {
        "colab": {
          "base_uri": "https://localhost:8080/"
        },
        "id": "OrQ7OmqxsGEC",
        "outputId": "b47d9ae6-7cc3-44ec-cf21-501b24d1f281"
      },
      "execution_count": 3,
      "outputs": [
        {
          "output_type": "stream",
          "name": "stdout",
          "text": [
            "**********************************************************************\n",
            "\tThis is LFM model trained on ml-1m with test_size = 0.10\n",
            "**********************************************************************\n",
            "\n",
            "Load ml-1m dataset success.\n",
            "split rating data to training set and test set success.\n",
            "train set size = 900118\n",
            "test set size = 100091\n",
            "\n",
            "LFM start...\n",
            "\n",
            "No model saved before.\n",
            "Train a new model...\n",
            "epoch: 0\n",
            "epoch: 1\n",
            "epoch: 2\n",
            "epoch: 3\n",
            "epoch: 4\n",
            "epoch: 5\n",
            "epoch: 6\n",
            "epoch: 7\n",
            "epoch: 8\n",
            "epoch: 9\n",
            "epoch: 10\n",
            "epoch: 11\n",
            "epoch: 12\n",
            "epoch: 13\n",
            "epoch: 14\n",
            "epoch: 15\n",
            "epoch: 16\n",
            "epoch: 17\n",
            "epoch: 18\n",
            "epoch: 19\n",
            "Train a new model success.\n",
            "The new model has saved success.\n",
            "\n",
            "recommend for userid = 1:\n",
            "['3623', '3298', '2951', '2392', '23', '1952', '3069', '210', '474', '3725']\n",
            "\n",
            "recommend for userid = 100:\n",
            "['3623', '3298', '2951', '2392', '23', '1952', '3069', '210', '474', '3725']\n",
            "\n",
            "recommend for userid = 233:\n",
            "['3623', '3298', '2951', '2392', '23', '1952', '3069', '210', '474', '3725']\n",
            "\n",
            "recommend for userid = 666:\n",
            "['3623', '3298', '2951', '2392', '23', '1952', '3069', '210', '474', '3725']\n",
            "\n",
            "recommend for userid = 888:\n",
            "['3298', '2951', '2392', '23', '1952', '3069', '210', '474', '3725', '2283']\n",
            "\n",
            "Test recommendation system start...\n",
            " steps(0), 0.02 seconds have spent..\n",
            " steps(1000), 18.63 seconds have spent..\n",
            " steps(2000), 35.39 seconds have spent..\n",
            " steps(3000), 52.19 seconds have spent..\n",
            " steps(4000), 69.06 seconds have spent..\n",
            " steps(5000), 87.09 seconds have spent..\n",
            " steps(6000), 104.26 seconds have spent..\n",
            "Test recommendation system success.\n",
            "total  step number is 6040\n",
            "total 104.88 seconds have spent\n",
            "\n",
            "precision=0.0085\trecall=0.0051\tcoverage=0.0079\tpopularity=5.3578\n",
            "\n",
            "total Main Function step number is 0\n",
            "total 1934.42 seconds have spent\n",
            "\n"
          ]
        }
      ]
    }
  ]
}